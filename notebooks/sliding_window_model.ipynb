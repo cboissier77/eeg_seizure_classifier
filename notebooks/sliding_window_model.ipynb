{
 "cells": [
  {
   "cell_type": "code",
   "execution_count": 1,
   "id": "942d1b2d",
   "metadata": {},
   "outputs": [],
   "source": [
    "from pathlib import Path\n",
    "\n",
    "import numpy as np\n",
    "import pandas as pd\n",
    "import matplotlib.pyplot as plt\n",
    "from scipy import signal\n",
    "from scipy.signal import resample\n",
    "\n",
    "from seiz_eeg.dataset import EEGDataset\n",
    "from torch.utils.data import DataLoader\n",
    "from torch.utils.data import random_split\n",
    "from data.dataset import EEGDatasetWrapper\n",
    "\n",
    "import torch\n",
    "import torch.nn as nn\n",
    "import torch.nn.functional as F\n",
    "\n",
    "from sklearn.metrics import accuracy_score, f1_score, roc_auc_score\n",
    "\n",
    "import wandb\n",
    "from tqdm import tqdm\n",
    "\n",
    "\n",
    "import matplotlib.pyplot as plt\n",
    "import seaborn as sns"
   ]
  },
  {
   "cell_type": "code",
   "execution_count": 2,
   "id": "79520883",
   "metadata": {},
   "outputs": [],
   "source": [
    "class EEGGraphFeatureDataset(torch.utils.data.Dataset):\n",
    "    def __init__(self, eeg_dataset, window_size=500, overlap=0.5):\n",
    "        self.eeg_dataset = eeg_dataset\n",
    "        self.window_size = window_size\n",
    "        self.overlap = overlap\n",
    "\n",
    "    def __len__(self):\n",
    "        return len(self.eeg_dataset)\n",
    "\n",
    "    def __getitem__(self, idx):\n",
    "        signal, label = self.eeg_dataset[idx]  # signal shape: (seq_len, num_electrodes)\n",
    "        features = self.extract_graph_features(signal)  # (num_windows, feature_dim)\n",
    "        return features, label\n",
    "\n",
    "    def extract_graph_features(self, signal):\n",
    "        seq_len, num_electrodes = signal.shape\n",
    "        step = int(self.window_size * (1 - self.overlap))\n",
    "        windows = []\n",
    "\n",
    "        for start in range(0, seq_len - self.window_size + 1, step):\n",
    "            windows.append(signal[start:start+self.window_size])\n",
    "\n",
    "        windows = np.array(windows)\n",
    "            \n",
    "        windows = torch.stack([torch.tensor(w) for w in windows])  # shape: (num_windows, window_size, num_electrodes)\n",
    "        num_windows = windows.shape[0]\n",
    "\n",
    "        features = torch.zeros(num_windows, 2) \n",
    "\n",
    "        for i in range(num_windows):\n",
    "            w = windows[i]\n",
    "            corr = torch.corrcoef(w.T)**2\n",
    "            # replace NaN values with 0\n",
    "            corr = torch.nan_to_num(corr)\n",
    "            features[i] = torch.tensor([corr.mean(), corr.std()])\n",
    "        return features  # shape: (num_windows, feature_dim)\n"
   ]
  },
  {
   "cell_type": "code",
   "execution_count": 3,
   "id": "a32b7fe9",
   "metadata": {},
   "outputs": [],
   "source": [
    "data_root = \"data/data\"\n",
    "data_preprocessing = \"raw\"\n",
    "eeg_data_wrapper= EEGDatasetWrapper(\n",
    "    data_root,\n",
    "    data_preprocessing)"
   ]
  },
  {
   "cell_type": "code",
   "execution_count": 4,
   "id": "52322417",
   "metadata": {},
   "outputs": [
    {
     "name": "stdout",
     "output_type": "stream",
     "text": [
      "Positive ratio: 4.00\n",
      "Test data shape: torch.Size([11, 2])\n",
      "tensor([[0.0000, 0.0000],\n",
      "        [0.0000, 0.0000],\n",
      "        [0.0000, 0.0000],\n",
      "        [0.0000, 0.0000],\n",
      "        [0.0000, 0.0000],\n",
      "        [0.0000, 0.0000],\n",
      "        [0.0000, 0.0000],\n",
      "        [0.5972, 0.3185],\n",
      "        [0.3105, 0.3063],\n",
      "        [0.2685, 0.2655],\n",
      "        [0.2821, 0.2804]])\n"
     ]
    }
   ],
   "source": [
    "selected_ids = eeg_data_wrapper.get_subject_ids()\n",
    "validation_id = \"s002\" \n",
    "selected_ids.remove(validation_id)\n",
    "train_dataset, val_dataset = eeg_data_wrapper.leave_one_out_split(\n",
    "        validation_id, selected_ids\n",
    ")\n",
    "\n",
    "labels = train_dataset.get_label_array()\n",
    "labels = np.array(labels)\n",
    "# get ratio positive and negative samples\n",
    "pos_ratio = np.sum(labels == 0) / np.sum(labels == 1)\n",
    "print(f\"Positive ratio: {pos_ratio:.2f}\")\n",
    "\n",
    "train_dataset = EEGGraphFeatureDataset(train_dataset, window_size=500, overlap=0.5)\n",
    "val_dataset = EEGGraphFeatureDataset(val_dataset, window_size=500, overlap=0.5)\n",
    "test_data , label = train_dataset.__getitem__(0)\n",
    "\n",
    "print(f\"Test data shape: {test_data.shape}\")\n",
    "print (test_data)"
   ]
  },
  {
   "cell_type": "code",
   "execution_count": 5,
   "id": "bd68b5d1",
   "metadata": {},
   "outputs": [],
   "source": [
    "train_loader = DataLoader(\n",
    "        train_dataset, batch_size=32, shuffle=True\n",
    "    )\n",
    "val_loader = DataLoader(val_dataset, batch_size=32,shuffle = True)"
   ]
  },
  {
   "cell_type": "code",
   "execution_count": 6,
   "id": "6ea6ef90",
   "metadata": {},
   "outputs": [],
   "source": [
    "import torch\n",
    "import torch.nn as nn\n",
    "import torch.nn.functional as F\n",
    "from torch_geometric.nn import GATv2Conv\n",
    "\n",
    "class EEG_GAT_Model(nn.Module):\n",
    "    def __init__(self, input_dim, gat_hidden_dim=64, output_dim=1, gat_heads=8):\n",
    "        super(EEG_GAT_Model, self).__init__()\n",
    "        self.num_electrodes = 19\n",
    "        self.gat_heads = gat_heads\n",
    "        self.input_dim = input_dim  # number of features per node\n",
    "\n",
    "        # GAT layers\n",
    "        self.gat1 = GATv2Conv(in_channels=input_dim, out_channels=gat_hidden_dim, heads=gat_heads, concat=True)\n",
    "        self.gat2 = GATv2Conv(in_channels=gat_hidden_dim * gat_heads, out_channels=gat_hidden_dim, heads=1, concat=True)\n",
    "\n",
    "        # Attention pooling over graph nodes\n",
    "        self.attention_pool = nn.Linear(gat_hidden_dim, 1)\n",
    "\n",
    "        # Final classifier\n",
    "        self.fc = nn.Linear(gat_hidden_dim, output_dim )\n",
    "\n",
    "    def build_fully_connected_graph(self, num_nodes):\n",
    "        edge_index = [[i, j] for i in range(num_nodes) for j in range(num_nodes) if i != j]\n",
    "        return torch.tensor(edge_index, dtype=torch.long).t()\n",
    "\n",
    "\n",
    "    def forward(self, x):\n",
    "        \"\"\"\n",
    "        Args:\n",
    "            x: Tensor of shape (batch_size, num_nodes, input_dim)\n",
    "        Returns:\n",
    "            logits: Tensor of shape (batch_size,)\n",
    "        \"\"\"\n",
    "        batch_size, num_nodes, feature_dim = x.shape\n",
    "        edge_index = self.build_fully_connected_graph(num_nodes).to(x.device)\n",
    "\n",
    "        graph_outputs = []\n",
    "\n",
    "        for b in range(batch_size):\n",
    "            node_features = x[b]  # (num_nodes, feature_dim)\n",
    "            out = self.gat1(node_features, edge_index)\n",
    "            out = F.elu(out)\n",
    "            out = self.gat2(out, edge_index)\n",
    "\n",
    "            attn_scores = torch.softmax(self.attention_pool(out), dim=0)\n",
    "            pooled = (attn_scores * out).sum(dim=0)  # (hidden_dim,)\n",
    "            graph_outputs.append(pooled)\n",
    "\n",
    "        graph_outputs = torch.stack(graph_outputs, dim=0)  # (batch_size, hidden_dim)\n",
    "        logits = self.fc(graph_outputs)  # (batch_size, output_dim)\n",
    "        return logits.squeeze(1)  # (batch_size,)\n",
    "\n",
    "\n"
   ]
  },
  {
   "cell_type": "code",
   "execution_count": 7,
   "id": "3768ff05",
   "metadata": {},
   "outputs": [],
   "source": [
    "class BinaryFocalLoss(nn.Module):\n",
    "    def __init__(self, alpha=0.25, gamma=2.0, reduction='mean'):\n",
    "        \"\"\"\n",
    "        alpha: weight for class 1\n",
    "        gamma: focusing parameter\n",
    "        reduction: 'mean', 'sum' or 'none'\n",
    "        \"\"\"\n",
    "        super(BinaryFocalLoss, self).__init__()\n",
    "        self.alpha = alpha\n",
    "        self.gamma = gamma\n",
    "        self.reduction = reduction\n",
    "\n",
    "    def forward(self, logits, labels):\n",
    "        \"\"\"\n",
    "        logits: raw model output (before sigmoid), shape (batch,)\n",
    "        labels: ground truth labels (0 or 1), shape (batch,)\n",
    "        \"\"\"\n",
    "        probs = torch.sigmoid(logits)\n",
    "        probs = probs.clamp(min=1e-7, max=1 - 1e-7)  # numerical stability\n",
    "        labels = labels.float()\n",
    "\n",
    "        p_t = probs * labels + (1 - probs) * (1 - labels)\n",
    "        alpha_t = self.alpha * labels + (1 - self.alpha) * (1 - labels)\n",
    "\n",
    "        focal_term = (1 - p_t) ** self.gamma\n",
    "        loss = -alpha_t * focal_term * torch.log(p_t + 1e-9)\n",
    "\n",
    "        if self.reduction == 'mean':\n",
    "            return loss.mean()\n",
    "        elif self.reduction == 'sum':\n",
    "            return loss.sum()\n",
    "        return loss"
   ]
  },
  {
   "cell_type": "code",
   "execution_count": 8,
   "id": "1b414bf8",
   "metadata": {},
   "outputs": [
    {
     "name": "stderr",
     "output_type": "stream",
     "text": [
      "/Users/charlesboissier/miniforge3/envs/network/lib/python3.10/site-packages/torch/optim/lr_scheduler.py:62: UserWarning: The verbose parameter is deprecated. Please use get_last_lr() to access the learning rate.\n",
      "  warnings.warn(\n",
      "\u001b[34m\u001b[1mwandb\u001b[0m: Currently logged in as: \u001b[33mcboissier77\u001b[0m (\u001b[33mcboissier77-epfl\u001b[0m) to \u001b[32mhttps://api.wandb.ai\u001b[0m. Use \u001b[1m`wandb login --relogin`\u001b[0m to force relogin\n"
     ]
    },
    {
     "data": {
      "text/html": [
       "Tracking run with wandb version 0.19.10"
      ],
      "text/plain": [
       "<IPython.core.display.HTML object>"
      ]
     },
     "metadata": {},
     "output_type": "display_data"
    },
    {
     "data": {
      "text/html": [
       "Run data is saved locally in <code>/Users/charlesboissier/network/project/eeg_seizure_classifier/wandb/run-20250513_170517-5j8sh9j2</code>"
      ],
      "text/plain": [
       "<IPython.core.display.HTML object>"
      ]
     },
     "metadata": {},
     "output_type": "display_data"
    },
    {
     "data": {
      "text/html": [
       "Syncing run <strong><a href='https://wandb.ai/cboissier77-epfl/EEG_GAT/runs/5j8sh9j2' target=\"_blank\">bright-fire-27</a></strong> to <a href='https://wandb.ai/cboissier77-epfl/EEG_GAT' target=\"_blank\">Weights & Biases</a> (<a href='https://wandb.me/developer-guide' target=\"_blank\">docs</a>)<br>"
      ],
      "text/plain": [
       "<IPython.core.display.HTML object>"
      ]
     },
     "metadata": {},
     "output_type": "display_data"
    },
    {
     "data": {
      "text/html": [
       " View project at <a href='https://wandb.ai/cboissier77-epfl/EEG_GAT' target=\"_blank\">https://wandb.ai/cboissier77-epfl/EEG_GAT</a>"
      ],
      "text/plain": [
       "<IPython.core.display.HTML object>"
      ]
     },
     "metadata": {},
     "output_type": "display_data"
    },
    {
     "data": {
      "text/html": [
       " View run at <a href='https://wandb.ai/cboissier77-epfl/EEG_GAT/runs/5j8sh9j2' target=\"_blank\">https://wandb.ai/cboissier77-epfl/EEG_GAT/runs/5j8sh9j2</a>"
      ],
      "text/plain": [
       "<IPython.core.display.HTML object>"
      ]
     },
     "metadata": {},
     "output_type": "display_data"
    },
    {
     "name": "stderr",
     "output_type": "stream",
     "text": [
      "                                                                                                                                                                                       \r"
     ]
    }
   ],
   "source": [
    "device = torch.device(\"cuda\" if torch.cuda.is_available() else \"cpu\")\n",
    "num_epochs = 15\n",
    "model = EEG_GAT_Model(input_dim=2).to(device)\n",
    "optimizer = torch.optim.Adam(model.parameters(), lr=1e-3)\n",
    "scheduler = torch.optim.lr_scheduler.ReduceLROnPlateau(\n",
    "    optimizer, mode='min', factor=0.5, patience=3, verbose=True\n",
    ")\n",
    "#loss_fn = BinaryFocalLoss(alpha=0.75, gamma=2.0, reduction='mean')\n",
    "\n",
    "pos_weight = torch.tensor([pos_ratio])\n",
    "loss_fn = nn.BCEWithLogitsLoss(pos_weight=pos_weight)\n",
    "\n",
    "wandb.init(\n",
    "    project=\"EEG_GAT\",  # give your project a name\n",
    "    config={\n",
    "        \"epochs\": num_epochs,\n",
    "        \"learning_rate\": 1e-3,\n",
    "        \"loss\": \"BinaryFocalLoss\",\n",
    "        \"alpha\": 0.75,\n",
    "        \"gamma\": 2.0,\n",
    "        \"model\": \"EEG_Graph_Builder\"\n",
    "    }\n",
    ")\n",
    "\n",
    "\n",
    "for epoch in range(num_epochs):\n",
    "    model.train()\n",
    "    running_loss = 0.0\n",
    "\n",
    "    loop = tqdm(train_loader, desc=f\"Epoch {epoch+1}/{num_epochs}\", leave=False)\n",
    "    for step, (x_batch, y_batch) in enumerate(loop):\n",
    "        x_batch = x_batch.to(device).float()\n",
    "        y_batch = y_batch.to(device).float()\n",
    "\n",
    "        logits = model(x_batch)\n",
    "        loss = loss_fn(logits, y_batch)\n",
    "\n",
    "        optimizer.zero_grad()\n",
    "        loss.backward()\n",
    "        optimizer.step()\n",
    "\n",
    "        running_loss += loss.item()\n",
    "        avg_loss = running_loss / (step + 1)\n",
    "        scheduler.step(avg_loss)\n",
    "        loop.set_postfix(loss=avg_loss)\n",
    "        wandb.log({\"batch_loss\": loss.item(), \"avg_loss\": avg_loss, \"epoch\": epoch + 1})\n",
    "        \n",
    "\n",
    "\n"
   ]
  },
  {
   "cell_type": "code",
   "execution_count": 9,
   "id": "4c585a9c",
   "metadata": {},
   "outputs": [
    {
     "name": "stderr",
     "output_type": "stream",
     "text": [
      "                                                                                                                                                                                       \r"
     ]
    },
    {
     "name": "stdout",
     "output_type": "stream",
     "text": [
      "Validation Loss: 1.1128\n",
      "Accuracy: 0.8002\n",
      "F1 Score: 0.0000\n"
     ]
    },
    {
     "data": {
      "image/png": "[encoded data removed]",
      "text/plain": [
       "<Figure size 640x480 with 2 Axes>"
      ]
     },
     "metadata": {},
     "output_type": "display_data"
    }
   ],
   "source": [
    "model.eval()\n",
    "val_loss = 0.0\n",
    "predictions = []\n",
    "true_labels = []\n",
    "with torch.no_grad():\n",
    "    loop = tqdm(train_loader, desc=\"Validation\", leave=False)\n",
    "    for step, (x_batch, y_batch) in enumerate(loop):\n",
    "        x_batch = x_batch.to(device).float()\n",
    "        y_batch = y_batch.to(device).float()\n",
    "\n",
    "        logits = model(x_batch)\n",
    "        loss = loss_fn(logits, y_batch)\n",
    "\n",
    "        val_loss += loss.item()\n",
    "\n",
    "        preds = torch.sigmoid(logits).cpu().numpy()\n",
    "        predictions.extend(preds)\n",
    "        true_labels.extend(y_batch.cpu().numpy())\n",
    "\n",
    "        avg_val_loss = val_loss / (step + 1)\n",
    "        loop.set_postfix(val_loss=avg_val_loss)\n",
    "\n",
    "# summarize results\n",
    "predictions = np.array(predictions)\n",
    "true_labels = np.array(true_labels)\n",
    "# summary statistics\n",
    "accuracy = accuracy_score(true_labels, (predictions > 0.5).astype(int))\n",
    "f1 = f1_score(true_labels, (predictions > 0.5).astype(int))\n",
    "roc_auc = roc_auc_score(true_labels, predictions)\n",
    "\n",
    "print(f\"Validation Loss: {avg_val_loss:.4f}\")\n",
    "print(f\"Accuracy: {accuracy:.4f}\")\n",
    "print(f\"F1 Score: {f1:.4f}\")\n",
    "#print number of pred == 1\n",
    "# plot confusion matrix\n",
    "from sklearn.metrics import confusion_matrix\n",
    "\n",
    "import seaborn as sns\n",
    "import matplotlib.pyplot as plt\n",
    "from sklearn.metrics import ConfusionMatrixDisplay\n",
    "\n",
    "\n",
    "cm = confusion_matrix(true_labels, (predictions > 0.5).astype(int))\n",
    "disp = ConfusionMatrixDisplay(confusion_matrix=cm, display_labels=[\"Healthy\", \"Seizure\"])\n",
    "disp.plot(cmap=plt.cm.Blues)\n",
    "plt.title(\"Confusion Matrix\")\n",
    "plt.show()"
   ]
  }
 ],
 "metadata": {
  "kernelspec": {
   "display_name": "Python 3 (ipykernel)",
   "language": "python",
   "name": "python3"
  }
 },
 "nbformat": 4,
 "nbformat_minor": 5
}
