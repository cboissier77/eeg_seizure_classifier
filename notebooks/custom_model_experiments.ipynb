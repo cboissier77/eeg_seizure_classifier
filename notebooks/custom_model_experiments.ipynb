{
 "cells": [
  {
   "cell_type": "markdown",
   "id": "2eec0c27",
   "metadata": {},
   "source": [
    "# Custom Model Implementation"
   ]
  },
  {
   "cell_type": "markdown",
   "id": "f14df752",
   "metadata": {},
   "source": [
    "### Details \n",
    "\n",
    "TODO"
   ]
  },
  {
   "cell_type": "markdown",
   "id": "53f05c1f",
   "metadata": {},
   "source": [
    "## Import, preprocess and split Data "
   ]
  },
  {
   "cell_type": "code",
   "execution_count": 14,
   "id": "c1f32e84",
   "metadata": {},
   "outputs": [],
   "source": [
    "from pathlib import Path\n",
    "\n",
    "import numpy as np\n",
    "import pandas as pd\n",
    "import matplotlib.pyplot as plt\n",
    "from scipy import signal\n",
    "from scipy.signal import resample\n",
    "\n",
    "from seiz_eeg.dataset import EEGDataset\n",
    "from torch.utils.data import DataLoader\n",
    "from torch.utils.data import random_split\n",
    "from data.dataset import EEGDatasetWrapper\n",
    "\n",
    "import torch\n",
    "import torch.nn as nn\n",
    "import torch.nn.functional as F\n",
    "\n",
    "from sklearn.metrics import accuracy_score, f1_score, roc_auc_score\n",
    "\n",
    "import wandb\n",
    "from tqdm import tqdm\n",
    "\n",
    "\n",
    "import matplotlib.pyplot as plt\n",
    "import seaborn as sns"
   ]
  },
  {
   "cell_type": "code",
   "execution_count": 15,
   "id": "531149b8",
   "metadata": {},
   "outputs": [],
   "source": [
    "data_root = \"data/data\"\n",
    "data_preprocessing = \"fft_filtering\"\n",
    "data_preprocessing_time = \"downsample\"\n",
    "eeg_data_wrapper_freq = EEGDatasetWrapper(\n",
    "    data_root,\n",
    "    data_preprocessing)\n",
    "eeg_data_wrapper_time = EEGDatasetWrapper(\n",
    "    data_root,\n",
    "    data_preprocessing_time)\n"
   ]
  },
  {
   "cell_type": "code",
   "execution_count": 16,
   "id": "3e34d367",
   "metadata": {},
   "outputs": [],
   "source": [
    "selected_ids = eeg_data_wrapper_time.get_subject_ids()\n",
    "validation_id = \"s002\" \n",
    "selected_ids.remove(validation_id)\n",
    "train_dataset_freq, val_dataset_freq = eeg_data_wrapper_freq.leave_one_out_split(\n",
    "        validation_id, selected_ids\n",
    "    )\n",
    "train_dataset_time, val_dataset_time = eeg_data_wrapper_time.leave_one_out_split(\n",
    "        validation_id, selected_ids\n",
    "    )\n",
    "\n",
    "# split train_dataset 30-70 \n",
    "train_edge_prediction_model_size = int(0.6 * len(train_dataset_freq))\n",
    "train_seizure_classifier_size = len(train_dataset_freq) - train_edge_prediction_model_size\n",
    "train_edge_prediction_dataset_freq, train_seizure_classifier_dataset_freq = random_split(\n",
    "    train_dataset_freq,\n",
    "    [train_edge_prediction_model_size, train_seizure_classifier_size],\n",
    ")\n",
    "train_edge_prediction_dataset_time, train_seizure_classifier_dataset_time = random_split(\n",
    "    train_dataset_time,\n",
    "    [train_edge_prediction_model_size, train_seizure_classifier_size],\n",
    ")"
   ]
  },
  {
   "cell_type": "code",
   "execution_count": 17,
   "id": "b718febc",
   "metadata": {},
   "outputs": [
    {
     "name": "stdout",
     "output_type": "stream",
     "text": [
      "Edge prediction dataset label ratio\n",
      "0:  0.8001716083516065\n",
      "Seizure classifier dataset label ratio\n",
      "0:  0.8001716083516065\n"
     ]
    }
   ],
   "source": [
    "labels_edge_pred = train_edge_prediction_dataset_freq.dataset.get_label_array()\n",
    "labels_eeg_classifier = train_seizure_classifier_dataset_freq.dataset.get_label_array()\n",
    "labels_edge_pred = np.array(labels_edge_pred)\n",
    "labels_eeg_classifier = np.array(labels_eeg_classifier)\n",
    "print(\"Edge prediction dataset label ratio\")\n",
    "print(\"0: \", len(labels_edge_pred[labels_edge_pred == 0]) / len(labels_edge_pred))\n",
    "print(\"Seizure classifier dataset label ratio\")\n",
    "print(\"0: \", len(labels_eeg_classifier[labels_eeg_classifier == 0]) / len(labels_eeg_classifier))\n"
   ]
  },
  {
   "cell_type": "code",
   "execution_count": 18,
   "id": "e1eecb58",
   "metadata": {},
   "outputs": [],
   "source": [
    "train_edge_pred_loader = DataLoader(\n",
    "        train_edge_prediction_dataset_time, batch_size=32, shuffle=True\n",
    "    )\n",
    "train_seizure_class_loader = DataLoader(\n",
    "        train_seizure_classifier_dataset_time, batch_size=32, shuffle=True\n",
    "    )\n",
    "val_loader = DataLoader(val_dataset_time, batch_size=32,shuffle = True)\n",
    "\n",
    "train_edge_pred_loader_freq = DataLoader(\n",
    "        train_edge_prediction_dataset_freq, batch_size=32, shuffle=True\n",
    "    )\n",
    "train_seizure_class_loader_freq = DataLoader(\n",
    "        train_seizure_classifier_dataset_freq, batch_size=32, shuffle=True\n",
    "    )\n",
    "val_loader_freq = DataLoader(val_dataset_freq, batch_size=32,shuffle = True)\n"
   ]
  },
  {
   "cell_type": "markdown",
   "id": "f19b4c36",
   "metadata": {},
   "source": [
    "## Build Graph Generator Model"
   ]
  },
  {
   "cell_type": "code",
   "execution_count": 19,
   "id": "9d2d5265",
   "metadata": {},
   "outputs": [],
   "source": [
    "class EEG_Graph_Builder(nn.Module):\n",
    "    def __init__(self, lstm_hidden_dim=80, lstm_layers=4, lstm_bidirectional=True):\n",
    "        super(EEG_Graph_Builder, self).__init__()\n",
    "        self.num_electrodes = 19\n",
    "        self.bidirectional = lstm_bidirectional\n",
    "        self.lstm_hidden_dim = lstm_hidden_dim\n",
    "        self.output_dim = lstm_hidden_dim * (2 if lstm_bidirectional else 1)\n",
    "\n",
    "        self.lstm = nn.LSTM(\n",
    "            input_size=1,\n",
    "            hidden_size=lstm_hidden_dim,\n",
    "            num_layers=lstm_layers,\n",
    "            batch_first=True,\n",
    "            bidirectional=lstm_bidirectional,\n",
    "            dropout=0.2 if lstm_layers > 1 else 0.0\n",
    "        )\n",
    "\n",
    "    def forward(self, x):\n",
    "        # x: (batch, seq_len, num_electrodes)\n",
    "        batch_size, seq_len, num_electrodes = x.shape\n",
    "        assert num_electrodes == self.num_electrodes, \"Input should have 19 electrodes\"\n",
    "\n",
    "        # Prepare electrode inputs: list of tensors (batch, seq_len, 1)\n",
    "        electrode_embeddings = []\n",
    "        for i in range(num_electrodes):\n",
    "            electrode_input = x[:, :, i].unsqueeze(-1)  # (batch, seq_len, 1)\n",
    "            _, (h_n, _) = self.lstm(electrode_input)    # h_n: (num_layers * num_directions, batch, hidden_dim)\n",
    "            h_n = h_n.transpose(0, 1).reshape(batch_size, -1)  # (batch, hidden_dim * directions)\n",
    "            electrode_embeddings.append(h_n)\n",
    "\n",
    "        # Stack embeddings: (batch, num_electrodes, embedding_dim)\n",
    "        electrode_embeddings = torch.stack(electrode_embeddings, dim=1)\n",
    "\n",
    "        # Normalize embeddings\n",
    "        normalized = F.normalize(electrode_embeddings, p=2, dim=2)\n",
    "\n",
    "        # Compute cosine similarity matrix: (batch, num_electrodes, num_electrodes)\n",
    "        adjacency = torch.bmm(normalized, normalized.transpose(1, 2))\n",
    "\n",
    "        # Optional: mean pooling over upper triangular (excluding self-similarities)\n",
    "        mask = torch.triu(torch.ones(self.num_electrodes, self.num_electrodes), diagonal=1).to(x.device)\n",
    "        mask = mask.unsqueeze(0)  # (1, 19, 19)\n",
    "        total_edges = mask.sum()\n",
    "        pooled = (adjacency * mask).sum(dim=(1, 2)) / total_edges  # (batch,)\n",
    "\n",
    "        return adjacency, pooled  # (batch, 19, 19), (batch,)\n"
   ]
  },
  {
   "cell_type": "code",
   "execution_count": 25,
   "id": "1fb56c7f",
   "metadata": {},
   "outputs": [],
   "source": [
    "import torch\n",
    "import torch.nn as nn\n",
    "\n",
    "class EEG_Analyser(nn.Module):\n",
    "    def __init__(self, lstm_hidden_dim=80, lstm_layers=4, lstm_bidirectional=True):\n",
    "        super(EEG_Analyser, self).__init__()\n",
    "        self.num_electrodes = 19\n",
    "        self.bidirectional = lstm_bidirectional\n",
    "        self.lstm_hidden_dim = lstm_hidden_dim\n",
    "        self.output_dim = self.output_dim = lstm_hidden_dim * lstm_layers * (2 if lstm_bidirectional else 1)\n",
    "\n",
    "\n",
    "        self.lstm = nn.LSTM(\n",
    "            input_size=1,\n",
    "            hidden_size=lstm_hidden_dim,\n",
    "            num_layers=lstm_layers,\n",
    "            batch_first=True,\n",
    "            bidirectional=lstm_bidirectional,\n",
    "            dropout=0.2 if lstm_layers > 1 else 0.0\n",
    "        )\n",
    "\n",
    "        # Binary classification head\n",
    "        self.fc = nn.Linear(self.output_dim, 1)\n",
    "        self.sigmoid = nn.Sigmoid()  # Optional if using BCEWithLogitsLoss\n",
    "\n",
    "    def forward(self, x):\n",
    "        # x: (batch, seq_len, num_electrodes)\n",
    "        batch_size, seq_len, num_electrodes = x.shape\n",
    "        assert num_electrodes == self.num_electrodes, \"Input should have 19 electrodes\"\n",
    "\n",
    "        # Process each electrode individually\n",
    "        electrode_embeddings = []\n",
    "        for i in range(num_electrodes):\n",
    "            electrode_input = x[:, :, i].unsqueeze(-1)  # (batch, seq_len, 1)\n",
    "            _, (h_n, _) = self.lstm(electrode_input)    # h_n: (num_layers * num_directions, batch, hidden_dim)\n",
    "            h_n = h_n.transpose(0, 1).reshape(batch_size, -1)  # (batch, hidden_dim * directions)\n",
    "            electrode_embeddings.append(h_n)\n",
    "\n",
    "        # Stack and pool across electrodes\n",
    "        electrode_embeddings = torch.stack(electrode_embeddings, dim=1)  # (batch, num_electrodes, embedding_dim)\n",
    "        pooled = electrode_embeddings.mean(dim=1)  # (batch, embedding_dim)\n",
    "\n",
    "        # Binary classification\n",
    "        out = self.fc(pooled)           # (batch, 1)\n",
    "        \n",
    "        return out\n"
   ]
  },
  {
   "cell_type": "markdown",
   "id": "521044c9",
   "metadata": {},
   "source": [
    "## Train model\n",
    "\n",
    "DON'T RUN IF ALREADY TRAINED"
   ]
  },
  {
   "cell_type": "code",
   "execution_count": 21,
   "id": "08343c50",
   "metadata": {},
   "outputs": [],
   "source": [
    "class BinaryFocalLoss(nn.Module):\n",
    "    def __init__(self, alpha=0.25, gamma=2.0, reduction='mean'):\n",
    "        \"\"\"\n",
    "        alpha: weight for class 1\n",
    "        gamma: focusing parameter\n",
    "        reduction: 'mean', 'sum' or 'none'\n",
    "        \"\"\"\n",
    "        super(BinaryFocalLoss, self).__init__()\n",
    "        self.alpha = alpha\n",
    "        self.gamma = gamma\n",
    "        self.reduction = reduction\n",
    "\n",
    "    def forward(self, logits, labels):\n",
    "        \"\"\"\n",
    "        logits: raw model output (before sigmoid), shape (batch,)\n",
    "        labels: ground truth labels (0 or 1), shape (batch,)\n",
    "        \"\"\"\n",
    "        probs = torch.sigmoid(logits)\n",
    "        probs = probs.clamp(min=1e-7, max=1 - 1e-7)  # numerical stability\n",
    "        labels = labels.float()\n",
    "\n",
    "        p_t = probs * labels + (1 - probs) * (1 - labels)\n",
    "        alpha_t = self.alpha * labels + (1 - self.alpha) * (1 - labels)\n",
    "\n",
    "        focal_term = (1 - p_t) ** self.gamma\n",
    "        loss = -alpha_t * focal_term * torch.log(p_t + 1e-9)\n",
    "\n",
    "        if self.reduction == 'mean':\n",
    "            return loss.mean()\n",
    "        elif self.reduction == 'sum':\n",
    "            return loss.sum()\n",
    "        return loss"
   ]
  },
  {
   "cell_type": "code",
   "execution_count": 36,
   "id": "c0e3a3dc",
   "metadata": {},
   "outputs": [],
   "source": [
    "class HingeLoss(nn.Module):\n",
    "    def __init__(self, margin=1.0):\n",
    "        super(HingeLoss, self).__init__()\n",
    "        self.margin = margin\n",
    "\n",
    "    def forward(self, logits, labels):\n",
    "        \"\"\"\n",
    "        logits: raw model output (before sigmoid), shape (batch,)\n",
    "        labels: ground truth labels (0 or 1), shape (batch,)\n",
    "        \"\"\"\n",
    "        labels = labels.float()\n",
    "        loss = torch.mean(torch.clamp(self.margin - logits * (2 * labels - 1), min=0))\n",
    "        return loss"
   ]
  },
  {
   "cell_type": "code",
   "execution_count": 9,
   "id": "7031d3ec",
   "metadata": {},
   "outputs": [
    {
     "name": "stderr",
     "output_type": "stream",
     "text": [
      "\u001b[34m\u001b[1mwandb\u001b[0m: Currently logged in as: \u001b[33mcboissier77\u001b[0m (\u001b[33mcboissier77-epfl\u001b[0m) to \u001b[32mhttps://api.wandb.ai\u001b[0m. Use \u001b[1m`wandb login --relogin`\u001b[0m to force relogin\n"
     ]
    },
    {
     "data": {
      "text/html": [
       "Tracking run with wandb version 0.19.10"
      ],
      "text/plain": [
       "<IPython.core.display.HTML object>"
      ]
     },
     "metadata": {},
     "output_type": "display_data"
    },
    {
     "data": {
      "text/html": [
       "Run data is saved locally in <code>/Users/charlesboissier/network/project/eeg_seizure_classifier/wandb/run-20250509_090536-cg9578jz</code>"
      ],
      "text/plain": [
       "<IPython.core.display.HTML object>"
      ]
     },
     "metadata": {},
     "output_type": "display_data"
    },
    {
     "data": {
      "text/html": [
       "Syncing run <strong><a href='https://wandb.ai/cboissier77-epfl/EEG_Graph_Builder/runs/cg9578jz' target=\"_blank\">clear-dawn-17</a></strong> to <a href='https://wandb.ai/cboissier77-epfl/EEG_Graph_Builder' target=\"_blank\">Weights & Biases</a> (<a href='https://wandb.me/developer-guide' target=\"_blank\">docs</a>)<br>"
      ],
      "text/plain": [
       "<IPython.core.display.HTML object>"
      ]
     },
     "metadata": {},
     "output_type": "display_data"
    },
    {
     "data": {
      "text/html": [
       " View project at <a href='https://wandb.ai/cboissier77-epfl/EEG_Graph_Builder' target=\"_blank\">https://wandb.ai/cboissier77-epfl/EEG_Graph_Builder</a>"
      ],
      "text/plain": [
       "<IPython.core.display.HTML object>"
      ]
     },
     "metadata": {},
     "output_type": "display_data"
    },
    {
     "data": {
      "text/html": [
       " View run at <a href='https://wandb.ai/cboissier77-epfl/EEG_Graph_Builder/runs/cg9578jz' target=\"_blank\">https://wandb.ai/cboissier77-epfl/EEG_Graph_Builder/runs/cg9578jz</a>"
      ],
      "text/plain": [
       "<IPython.core.display.HTML object>"
      ]
     },
     "metadata": {},
     "output_type": "display_data"
    },
    {
     "name": "stderr",
     "output_type": "stream",
     "text": [
      "                                                                                                                                                                                                                \r"
     ]
    }
   ],
   "source": [
    "device = torch.device(\"cuda\" if torch.cuda.is_available() else \"cpu\")\n",
    "num_epochs = 5\n",
    "model = EEG_Graph_Builder().to(device)\n",
    "optimizer = torch.optim.Adam(model.parameters(), lr=1e-3)\n",
    "loss_fn = BinaryFocalLoss(alpha=0.75, gamma=2.0, reduction='mean')\n",
    "\n",
    "wandb.init(\n",
    "    project=\"EEG_Graph_Builder\",  # give your project a name\n",
    "    config={\n",
    "        \"epochs\": num_epochs,\n",
    "        \"learning_rate\": 1e-3,\n",
    "        \"loss\": \"BinaryFocalLoss\",\n",
    "        \"alpha\": 0.75,\n",
    "        \"gamma\": 2.0,\n",
    "        \"model\": \"EEG_Graph_Builder\"\n",
    "    }\n",
    ")\n",
    "\n",
    "\n",
    "for epoch in range(num_epochs):\n",
    "    model.train()\n",
    "    running_loss = 0.0\n",
    "\n",
    "    loop = tqdm(train_edge_pred_loader, desc=f\"Epoch {epoch+1}/{num_epochs}\", leave=False)\n",
    "    for step, (x_batch, y_batch) in enumerate(loop):\n",
    "        x_batch = x_batch.to(device).float()\n",
    "        y_batch = y_batch.to(device)\n",
    "\n",
    "        _, logits = model(x_batch)\n",
    "        loss = loss_fn(logits, y_batch)\n",
    "\n",
    "        optimizer.zero_grad()\n",
    "        loss.backward()\n",
    "        optimizer.step()\n",
    "\n",
    "        running_loss += loss.item()\n",
    "        avg_loss = running_loss / (step + 1)\n",
    "\n",
    "        loop.set_postfix(loss=avg_loss)\n",
    "        wandb.log({\"batch_loss\": loss.item(), \"avg_loss\": avg_loss, \"epoch\": epoch + 1})\n",
    "\n",
    "\n"
   ]
  },
  {
   "cell_type": "code",
   "execution_count": 26,
   "id": "a807647d",
   "metadata": {},
   "outputs": [
    {
     "data": {
      "text/html": [
       "Finishing previous runs because reinit is set to 'default'."
      ],
      "text/plain": [
       "<IPython.core.display.HTML object>"
      ]
     },
     "metadata": {},
     "output_type": "display_data"
    },
    {
     "data": {
      "text/html": [],
      "text/plain": [
       "<IPython.core.display.HTML object>"
      ]
     },
     "metadata": {},
     "output_type": "display_data"
    },
    {
     "data": {
      "text/html": [
       " View run <strong style=\"color:#cdcd00\">rural-pyramid-5</strong> at: <a href='https://wandb.ai/cboissier77-epfl/EEG_Analyser_Freq/runs/in6dmopk' target=\"_blank\">https://wandb.ai/cboissier77-epfl/EEG_Analyser_Freq/runs/in6dmopk</a><br> View project at: <a href='https://wandb.ai/cboissier77-epfl/EEG_Analyser_Freq' target=\"_blank\">https://wandb.ai/cboissier77-epfl/EEG_Analyser_Freq</a><br>Synced 5 W&B file(s), 0 media file(s), 0 artifact file(s) and 0 other file(s)"
      ],
      "text/plain": [
       "<IPython.core.display.HTML object>"
      ]
     },
     "metadata": {},
     "output_type": "display_data"
    },
    {
     "data": {
      "text/html": [
       "Find logs at: <code>./wandb/run-20250509_141409-in6dmopk/logs</code>"
      ],
      "text/plain": [
       "<IPython.core.display.HTML object>"
      ]
     },
     "metadata": {},
     "output_type": "display_data"
    },
    {
     "data": {
      "text/html": [
       "Tracking run with wandb version 0.19.10"
      ],
      "text/plain": [
       "<IPython.core.display.HTML object>"
      ]
     },
     "metadata": {},
     "output_type": "display_data"
    },
    {
     "data": {
      "text/html": [
       "Run data is saved locally in <code>/Users/charlesboissier/network/project/eeg_seizure_classifier/wandb/run-20250509_141741-0ln82bzw</code>"
      ],
      "text/plain": [
       "<IPython.core.display.HTML object>"
      ]
     },
     "metadata": {},
     "output_type": "display_data"
    },
    {
     "data": {
      "text/html": [
       "Syncing run <strong><a href='https://wandb.ai/cboissier77-epfl/EEG_Analyser_Freq/runs/0ln82bzw' target=\"_blank\">celestial-water-6</a></strong> to <a href='https://wandb.ai/cboissier77-epfl/EEG_Analyser_Freq' target=\"_blank\">Weights & Biases</a> (<a href='https://wandb.me/developer-guide' target=\"_blank\">docs</a>)<br>"
      ],
      "text/plain": [
       "<IPython.core.display.HTML object>"
      ]
     },
     "metadata": {},
     "output_type": "display_data"
    },
    {
     "data": {
      "text/html": [
       " View project at <a href='https://wandb.ai/cboissier77-epfl/EEG_Analyser_Freq' target=\"_blank\">https://wandb.ai/cboissier77-epfl/EEG_Analyser_Freq</a>"
      ],
      "text/plain": [
       "<IPython.core.display.HTML object>"
      ]
     },
     "metadata": {},
     "output_type": "display_data"
    },
    {
     "data": {
      "text/html": [
       " View run at <a href='https://wandb.ai/cboissier77-epfl/EEG_Analyser_Freq/runs/0ln82bzw' target=\"_blank\">https://wandb.ai/cboissier77-epfl/EEG_Analyser_Freq/runs/0ln82bzw</a>"
      ],
      "text/plain": [
       "<IPython.core.display.HTML object>"
      ]
     },
     "metadata": {},
     "output_type": "display_data"
    },
    {
     "name": "stderr",
     "output_type": "stream",
     "text": [
      "Epoch 1/5:  98%|██████████████████████████████████████████████████████████████████████████████████████████████████████████████████████████████████████████████▊  | 194/197 [34:13<00:34, 11.55s/it, loss=0.0604]\u001b[34m\u001b[1mwandb\u001b[0m: \u001b[33mWARNING\u001b[0m Fatal error while uploading data. Some run data will not be synced, but it will still be written to disk. Use `wandb sync` at the end of the run to try uploading.\n",
      "                                                                                                                                                                                                                \r"
     ]
    }
   ],
   "source": [
    "device = torch.device(\"cuda\" if torch.cuda.is_available() else \"cpu\")\n",
    "num_epochs = 5\n",
    "model_freq = EEG_Analyser().to(device)\n",
    "optimizer = torch.optim.Adam(model.parameters(), lr=1e-3)\n",
    "loss_fn = BinaryFocalLoss(alpha=0.75, gamma=2.0, reduction='mean')\n",
    "\n",
    "wandb.init(\n",
    "    project=\"EEG_Analyser_Freq\",  # give your project a name\n",
    "    config={\n",
    "        \"epochs\": num_epochs,\n",
    "        \"learning_rate\": 1e-3,\n",
    "        \"loss\": \"BinaryFocalLoss\",\n",
    "        \"alpha\": 0.75,\n",
    "        \"gamma\": 2.0,\n",
    "        \"model\": \"EEG_Graph_Builder\"\n",
    "    }\n",
    ")\n",
    "\n",
    "\n",
    "for epoch in range(num_epochs):\n",
    "    model_freq.train()\n",
    "    running_loss = 0.0\n",
    "\n",
    "    loop = tqdm(train_edge_pred_loader_freq, desc=f\"Epoch {epoch+1}/{num_epochs}\", leave=False)\n",
    "    for step, (x_batch, y_batch) in enumerate(loop):\n",
    "        x_batch = x_batch.to(device).float()\n",
    "        y_batch = y_batch.to(device)\n",
    "\n",
    "        logits = model_freq(x_batch)\n",
    "        loss = loss_fn(logits, y_batch)\n",
    "\n",
    "        optimizer.zero_grad()\n",
    "        loss.backward()\n",
    "        optimizer.step()\n",
    "\n",
    "        running_loss += loss.item()\n",
    "        avg_loss = running_loss / (step + 1)\n",
    "\n",
    "        loop.set_postfix(loss=avg_loss)\n",
    "        wandb.log({\"batch_loss\": loss.item(), \"avg_loss\": avg_loss, \"epoch\": epoch + 1})\n",
    "\n"
   ]
  },
  {
   "cell_type": "code",
   "execution_count": 29,
   "id": "fa67d450",
   "metadata": {},
   "outputs": [
    {
     "data": {
      "text/html": [
       "Finishing previous runs because reinit is set to 'default'."
      ],
      "text/plain": [
       "<IPython.core.display.HTML object>"
      ]
     },
     "metadata": {},
     "output_type": "display_data"
    },
    {
     "data": {
      "text/html": [],
      "text/plain": [
       "<IPython.core.display.HTML object>"
      ]
     },
     "metadata": {},
     "output_type": "display_data"
    },
    {
     "data": {
      "text/html": [
       "<br>    <style><br>        .wandb-row {<br>            display: flex;<br>            flex-direction: row;<br>            flex-wrap: wrap;<br>            justify-content: flex-start;<br>            width: 100%;<br>        }<br>        .wandb-col {<br>            display: flex;<br>            flex-direction: column;<br>            flex-basis: 100%;<br>            flex: 1;<br>            padding: 10px;<br>        }<br>    </style><br><div class=\"wandb-row\"><div class=\"wandb-col\"><h3>Run history:</h3><br/><table class=\"wandb\"><tr><td>avg_loss</td><td>▄▄▂▃▃▃▃▃▁▄▄▄▄▃▃▃▃▃█▅▅▅▄▃▄▃▆▆▅▄▃▃▃▃▃▃▃▃▃▃</td></tr><tr><td>batch_loss</td><td>▄▆▄▅▄▃▄▅█▃▇▅▃▄▃▄▂▆▄▅▄▃▄▃▃▅▄▄▅▃▅▅▁▄▅▂▃▄▃▄</td></tr><tr><td>epoch</td><td>▁▁▁▁▁▁▁▁▁▃▃▃▃▃▃▃▃▅▅▅▅▅▅▅▅▅▆▆▆▆▆▆▆▆██████</td></tr></table><br/></div><div class=\"wandb-col\"><h3>Run summary:</h3><br/><table class=\"wandb\"><tr><td>avg_loss</td><td>0.06028</td></tr><tr><td>batch_loss</td><td>0.07187</td></tr><tr><td>epoch</td><td>5</td></tr></table><br/></div></div>"
      ],
      "text/plain": [
       "<IPython.core.display.HTML object>"
      ]
     },
     "metadata": {},
     "output_type": "display_data"
    },
    {
     "data": {
      "text/html": [
       " View run <strong style=\"color:#cdcd00\">celestial-water-6</strong> at: <a href='https://wandb.ai/cboissier77-epfl/EEG_Analyser_Freq/runs/0ln82bzw' target=\"_blank\">https://wandb.ai/cboissier77-epfl/EEG_Analyser_Freq/runs/0ln82bzw</a><br> View project at: <a href='https://wandb.ai/cboissier77-epfl/EEG_Analyser_Freq' target=\"_blank\">https://wandb.ai/cboissier77-epfl/EEG_Analyser_Freq</a><br>Synced 5 W&B file(s), 0 media file(s), 0 artifact file(s) and 0 other file(s)"
      ],
      "text/plain": [
       "<IPython.core.display.HTML object>"
      ]
     },
     "metadata": {},
     "output_type": "display_data"
    },
    {
     "data": {
      "text/html": [
       "Find logs at: <code>./wandb/run-20250509_141741-0ln82bzw/logs</code>"
      ],
      "text/plain": [
       "<IPython.core.display.HTML object>"
      ]
     },
     "metadata": {},
     "output_type": "display_data"
    },
    {
     "data": {
      "text/html": [
       "Tracking run with wandb version 0.19.10"
      ],
      "text/plain": [
       "<IPython.core.display.HTML object>"
      ]
     },
     "metadata": {},
     "output_type": "display_data"
    },
    {
     "data": {
      "text/html": [
       "Run data is saved locally in <code>/Users/charlesboissier/network/project/eeg_seizure_classifier/wandb/run-20250511_112105-poppg4ox</code>"
      ],
      "text/plain": [
       "<IPython.core.display.HTML object>"
      ]
     },
     "metadata": {},
     "output_type": "display_data"
    },
    {
     "data": {
      "text/html": [
       "Syncing run <strong><a href='https://wandb.ai/cboissier77-epfl/EEG_Analyser_Time/runs/poppg4ox' target=\"_blank\">magic-oath-2</a></strong> to <a href='https://wandb.ai/cboissier77-epfl/EEG_Analyser_Time' target=\"_blank\">Weights & Biases</a> (<a href='https://wandb.me/developer-guide' target=\"_blank\">docs</a>)<br>"
      ],
      "text/plain": [
       "<IPython.core.display.HTML object>"
      ]
     },
     "metadata": {},
     "output_type": "display_data"
    },
    {
     "data": {
      "text/html": [
       " View project at <a href='https://wandb.ai/cboissier77-epfl/EEG_Analyser_Time' target=\"_blank\">https://wandb.ai/cboissier77-epfl/EEG_Analyser_Time</a>"
      ],
      "text/plain": [
       "<IPython.core.display.HTML object>"
      ]
     },
     "metadata": {},
     "output_type": "display_data"
    },
    {
     "data": {
      "text/html": [
       " View run at <a href='https://wandb.ai/cboissier77-epfl/EEG_Analyser_Time/runs/poppg4ox' target=\"_blank\">https://wandb.ai/cboissier77-epfl/EEG_Analyser_Time/runs/poppg4ox</a>"
      ],
      "text/plain": [
       "<IPython.core.display.HTML object>"
      ]
     },
     "metadata": {},
     "output_type": "display_data"
    },
    {
     "name": "stderr",
     "output_type": "stream",
     "text": [
      "                                                                                                                                                                                                                \r"
     ]
    },
    {
     "name": "stderr",
     "output_type": "stream",
     "text": [
      "\u001b[34m\u001b[1mwandb\u001b[0m: \u001b[33mWARNING\u001b[0m Fatal error while uploading data. Some run data will not be synced, but it will still be written to disk. Use `wandb sync` at the end of the run to try uploading.\n"
     ]
    }
   ],
   "source": [
    "device = torch.device(\"cuda\" if torch.cuda.is_available() else \"cpu\")\n",
    "num_epochs = 5\n",
    "model_time = EEG_Analyser().to(device)\n",
    "optimizer = torch.optim.Adam(model.parameters(), lr=1e-3)\n",
    "loss_fn = BinaryFocalLoss(alpha=0.75, gamma=2.0, reduction='mean')\n",
    "\n",
    "wandb.init(\n",
    "    project=\"EEG_Analyser_Time\",  # give your project a name\n",
    "    config={\n",
    "        \"epochs\": num_epochs,\n",
    "        \"learning_rate\": 1e-3,\n",
    "        \"loss\": \"BinaryFocalLoss\",\n",
    "        \"alpha\": 0.75,\n",
    "        \"gamma\": 2.0,\n",
    "        \"model\": \"EEG_Graph_Builder\"\n",
    "    }\n",
    ")\n",
    "\n",
    "\n",
    "for epoch in range(num_epochs):\n",
    "    model_time.train()\n",
    "    running_loss = 0.0\n",
    "\n",
    "    loop = tqdm(train_edge_pred_loader, desc=f\"Epoch {epoch+1}/{num_epochs}\", leave=False)\n",
    "    for step, (x_batch, y_batch) in enumerate(loop):\n",
    "        x_batch = x_batch.to(device).float()\n",
    "        y_batch = y_batch.to(device)\n",
    "\n",
    "        logits = model_time(x_batch)\n",
    "        loss = loss_fn(logits, y_batch)\n",
    "\n",
    "        optimizer.zero_grad()\n",
    "        loss.backward()\n",
    "        optimizer.step()\n",
    "\n",
    "        running_loss += loss.item()\n",
    "        avg_loss = running_loss / (step + 1)\n",
    "\n",
    "        loop.set_postfix(loss=avg_loss)\n",
    "        wandb.log({\"batch_loss\": loss.item(), \"avg_loss\": avg_loss, \"epoch\": epoch + 1})"
   ]
  },
  {
   "cell_type": "code",
   "execution_count": 30,
   "id": "ee060d94",
   "metadata": {},
   "outputs": [],
   "source": [
    "# save the model\n",
    "#torch.save(model.state_dict(), \"eeg_graph_builder.pth\")\n",
    "#torch.save(model_freq.state_dict(), \"eeg_analyser_freq.pth\")\n",
    "torch.save(model_time.state_dict(), \"eeg_analyser_time.pth\")"
   ]
  },
  {
   "cell_type": "code",
   "execution_count": 31,
   "id": "29033e29",
   "metadata": {},
   "outputs": [
    {
     "data": {
      "text/plain": [
       "<All keys matched successfully>"
      ]
     },
     "execution_count": 31,
     "metadata": {},
     "output_type": "execute_result"
    }
   ],
   "source": [
    "# load the model\n",
    "device = torch.device(\"cuda\" if torch.cuda.is_available() else \"cpu\")\n",
    "model = EEG_Graph_Builder().to(device)\n",
    "model.load_state_dict(torch.load(\"eeg_graph_builder.pth\"))\n",
    "model_freq = EEG_Analyser().to(device)\n",
    "model_freq.load_state_dict(torch.load(\"eeg_analyser_freq.pth\"))\n",
    "model_time = EEG_Analyser().to(device)\n",
    "model_time.load_state_dict(torch.load(\"eeg_analyser_time.pth\"))"
   ]
  },
  {
   "cell_type": "code",
   "execution_count": 34,
   "id": "75f55fcb",
   "metadata": {},
   "outputs": [
    {
     "name": "stderr",
     "output_type": "stream",
     "text": [
      "                                                                                                                                                                                                                "
     ]
    },
    {
     "name": "stdout",
     "output_type": "stream",
     "text": [
      "Validation set predicted class ratio:\n",
      "Class 0: 0.0\n",
      "Class 1: 1.0\n",
      "Validation set predicted class ratio freq:\n",
      "Class 0: 0.9974575042724609\n",
      "Class 1: 0.002542507601901889\n",
      "Validation set predicted class ratio time:\n",
      "Class 0: 0.002542507601901889\n",
      "Class 1: 0.9974575042724609\n",
      "Validation Accuracy: 0.20133481646273638\n",
      "F1 Score: 0.3351851851851852\n",
      "AUROC: 0.5388034313126595\n",
      "Validation Accuracy freq: 0.7961226759891944\n",
      "F1 Score freq: 0.0\n",
      "AUROC freq: 0.3835137003446325\n",
      "Validation Accuracy time: 0.20387732401080566\n",
      "F1 Score time: 0.33589607635206786\n",
      "AUROC time: 0.6303039506327162\n"
     ]
    },
    {
     "name": "stderr",
     "output_type": "stream",
     "text": [
      "\r"
     ]
    }
   ],
   "source": [
    "model.eval()\n",
    "model_time.eval()\n",
    "model_freq.eval()\n",
    "all_preds = []\n",
    "all_preds_freq = []\n",
    "all_preds_time = []\n",
    "all_probs = []\n",
    "all_probs_freq = []\n",
    "all_probs_time = []\n",
    "all_labels = []\n",
    "\n",
    "\n",
    "\n",
    "with torch.no_grad():\n",
    "    loop = tqdm(train_edge_pred_loader_freq, desc=\"Validation\", leave=False)\n",
    "    for x_val, y_val in loop:\n",
    "        x_val = x_val.to(device).float()\n",
    "        y_val = y_val.to(device)\n",
    "\n",
    "        adjacency, logits = model(x_val)  # logits: (batch,), raw scores\n",
    "        probs = torch.sigmoid(logits)  # Apply sigmoid to get probabilities\n",
    "        all_probs.append(probs.cpu())\n",
    "        preds = (probs > 0.5).long()      # Binary prediction threshold\n",
    "        all_preds.append(preds.cpu())\n",
    "        logits_freq = model_freq(x_val)\n",
    "        probs_freq = torch.sigmoid(logits_freq)\n",
    "        all_probs_freq.append(probs_freq.cpu())\n",
    "        preds_freq = (probs_freq > 0.5).long()\n",
    "        all_preds_freq.append(preds_freq.cpu())\n",
    "        logits_time = model_time(x_val)\n",
    "        probs_time = torch.sigmoid(logits_time)\n",
    "        all_probs_time.append(probs_time.cpu())\n",
    "        preds_time = (probs_time > 0.5).long()\n",
    "        all_preds_time.append(preds_time.cpu())\n",
    "        all_labels.append(y_val.cpu())\n",
    "\n",
    "\n",
    "\n",
    "# Stack tensors\n",
    "all_preds = torch.cat(all_preds)\n",
    "all_labels = torch.cat(all_labels)\n",
    "all_preds_freq = torch.cat(all_preds_freq)\n",
    "all_preds_time = torch.cat(all_preds_time)\n",
    "all_probs = torch.cat(all_probs)\n",
    "all_probs_freq = torch.cat(all_probs_freq)\n",
    "all_probs_time = torch.cat(all_probs_time)\n",
    "\n",
    "# Print ratio of predicted classes\n",
    "print(\"Validation set predicted class ratio:\")\n",
    "print(\"Class 0:\", (all_preds == 0).float().mean().item())\n",
    "print(\"Class 1:\", (all_preds == 1).float().mean().item())\n",
    "\n",
    "# Print ratio of predicted classes\n",
    "print(\"Validation set predicted class ratio freq:\")\n",
    "print(\"Class 0:\", (all_preds_freq == 0).float().mean().item())\n",
    "print(\"Class 1:\", (all_preds_freq == 1).float().mean().item())\n",
    "print(\"Validation set predicted class ratio time:\")\n",
    "print(\"Class 0:\", (all_preds_time == 0).float().mean().item())\n",
    "print(\"Class 1:\", (all_preds_time == 1).float().mean().item())\n",
    "\n",
    "# Metrics\n",
    "print(\"Validation Accuracy:\", accuracy_score(all_labels, all_preds))\n",
    "print(\"F1 Score:\", f1_score(all_labels, all_preds))\n",
    "print(\"AUROC:\", roc_auc_score(all_labels, all_probs))  # Use probs, not preds\n",
    "\n",
    "print(\"Validation Accuracy freq:\", accuracy_score(all_labels, all_preds_freq))\n",
    "print(\"F1 Score freq:\", f1_score(all_labels, all_preds_freq))\n",
    "print(\"AUROC freq:\", roc_auc_score(all_labels, all_probs_freq))  # Use probs, not preds\n",
    "\n",
    "print(\"Validation Accuracy time:\", accuracy_score(all_labels, all_preds_time))\n",
    "print(\"F1 Score time:\", f1_score(all_labels, all_preds_time))\n",
    "print(\"AUROC time:\", roc_auc_score(all_labels, all_probs_time))  # Use probs, not preds\n",
    "\n"
   ]
  },
  {
   "cell_type": "code",
   "execution_count": 41,
   "id": "96bc0284",
   "metadata": {},
   "outputs": [
    {
     "data": {
      "image/png": "[encoded data removed]",
      "text/plain": [
       "<Figure size 640x480 with 2 Axes>"
      ]
     },
     "metadata": {},
     "output_type": "display_data"
    },
    {
     "data": {
      "image/png": "[encoded data removed]",
      "text/plain": [
       "<Figure size 640x480 with 2 Axes>"
      ]
     },
     "metadata": {},
     "output_type": "display_data"
    }
   ],
   "source": [
    "# Find one graph for each label\n",
    "\n",
    "idx_pos = (all_labels == 1).nonzero(as_tuple=True)[0][5]\n",
    "idx_neg = (all_labels == 0).nonzero(as_tuple=True)[0][30]\n",
    "\n",
    "def plot_adj(adj_matrix, title):\n",
    "    plt.imshow(adj_matrix, cmap='hot', interpolation='nearest')\n",
    "    plt.colorbar()\n",
    "    plt.title(title)\n",
    "    plt.xlabel('Electrodes')\n",
    "    plt.ylabel('Electrodes')\n",
    "    plt.show()\n",
    "\n",
    "plot_adj(all_adjacency[idx_pos], \"Graph with Label == 1\")\n",
    "plot_adj(all_adjacency[idx_neg], \"Graph with Label == 0\")\n"
   ]
  },
  {
   "cell_type": "code",
   "execution_count": 42,
   "id": "ee9cad66",
   "metadata": {},
   "outputs": [
    {
     "data": {
      "image/png": "[encoded data removed]",
      "text/plain": [
       "<Figure size 1000x500 with 1 Axes>"
      ]
     },
     "metadata": {},
     "output_type": "display_data"
    }
   ],
   "source": [
    "### plot histrogram of logits with label 0 and 1\n",
    "all_logits_tensor = torch.cat(all_logits)  # Convert list of tensors to a single tensor\n",
    "plt.figure(figsize=(10, 5))\n",
    "plt.hist(all_logits_tensor[all_labels == 0].numpy(), bins=50, alpha=0.5, label='Label 0', color='blue')\n",
    "plt.hist(all_logits_tensor[all_labels == 1].numpy(), bins=50, alpha=0.5, label='Label 1', color='red')\n",
    "plt.title('Histogram of Logits for Label 0 and 1')\n",
    "plt.xlabel('Logit Value')\n",
    "plt.ylabel('Frequency')\n",
    "plt.legend()\n",
    "plt.show()"
   ]
  },
  {
   "cell_type": "code",
   "execution_count": 14,
   "id": "97ec4f3a",
   "metadata": {},
   "outputs": [
    {
     "data": {
      "image/png": "[encoded data removed]",
      "text/plain": [
       "<Figure size 1000x600 with 2 Axes>"
      ]
     },
     "metadata": {},
     "output_type": "display_data"
    }
   ],
   "source": [
    "# Access LSTM weights (example for first layer)\n",
    "lstm_weights = model.lstm.weight_ih_l0.detach().cpu().numpy()  # shape: (4*hidden_dim, input_dim)\n",
    "\n",
    "plt.figure(figsize=(10, 6))\n",
    "sns.heatmap(lstm_weights, cmap='coolwarm', center=0)\n",
    "plt.title(\"LSTM input-hidden weights (layer 0)\")\n",
    "plt.xlabel(\"Input Features\")\n",
    "plt.ylabel(\"LSTM Gates × Hidden Units\")\n",
    "plt.show()\n"
   ]
  },
  {
   "cell_type": "markdown",
   "id": "d13b8dab",
   "metadata": {},
   "source": [
    "## Classifer Model"
   ]
  },
  {
   "cell_type": "code",
   "execution_count": 15,
   "id": "fa54ad0e",
   "metadata": {},
   "outputs": [
    {
     "name": "stderr",
     "output_type": "stream",
     "text": [
      "                                                                                                                                                                                                                \r"
     ]
    }
   ],
   "source": [
    "model.eval()\n",
    "all_adjacency = []\n",
    "all_labels = []\n",
    "\n",
    "with torch.no_grad():\n",
    "    loop = tqdm(train_seizure_class_loader, desc=\"Extracting adjacency\", leave=False)\n",
    "    for x_val, y_val in loop:\n",
    "        x_val = x_val.to(device).float()\n",
    "        y_val = y_val.to(device)\n",
    "\n",
    "        adjacency, _ = model(x_val)  # (batch, 19, 19)\n",
    "        all_adjacency.append(adjacency.cpu())   # keep batch dimension\n",
    "        all_labels.append(y_val.cpu())\n"
   ]
  },
  {
   "cell_type": "code",
   "execution_count": 16,
   "id": "563fb218",
   "metadata": {},
   "outputs": [
    {
     "name": "stdout",
     "output_type": "stream",
     "text": [
      "              precision    recall  f1-score   support\n",
      "\n",
      "  No Seizure       0.94      0.97      0.96      2842\n",
      "     Seizure       0.85      0.77      0.81       697\n",
      "\n",
      "    accuracy                           0.93      3539\n",
      "   macro avg       0.90      0.87      0.88      3539\n",
      "weighted avg       0.93      0.93      0.93      3539\n",
      "\n"
     ]
    },
    {
     "data": {
      "text/plain": [
       "Text(0.5, 1.0, 'Feature Importances')"
      ]
     },
     "execution_count": 16,
     "metadata": {},
     "output_type": "execute_result"
    },
    {
     "data": {
      "image/png": "[encoded data removed]",
      "text/plain": [
       "<Figure size 640x480 with 1 Axes>"
      ]
     },
     "metadata": {},
     "output_type": "display_data"
    }
   ],
   "source": [
    "import numpy as np\n",
    "import pandas as pd\n",
    "import networkx as nx\n",
    "from scipy.stats import entropy\n",
    "\n",
    "def compute_graph_features(adj):\n",
    "    np.fill_diagonal(adj, 0)  # Remove self-loops if present\n",
    "    adj = (adj + 1) / 2\n",
    "\n",
    "    degrees = adj.sum(axis=1)\n",
    "    edge_weights = adj[np.triu_indices_from(adj, k=1)]\n",
    "\n",
    "    # Use NetworkX for advanced features\n",
    "    G = nx.from_numpy_array(adj)\n",
    "\n",
    "    # Compute features\n",
    "    features = {\n",
    "        \"mean_degree\": degrees.mean(),\n",
    "        \"max_degree\": degrees.max(),\n",
    "        \"min_degree\": degrees.min(),\n",
    "        \"edge_count\": np.count_nonzero(edge_weights),\n",
    "        \"mean_edge_weight\": edge_weights.mean() if edge_weights.size > 0 else 0,\n",
    "        \"std_edge_weight\": edge_weights.std() if edge_weights.size > 1 else 0,\n",
    "        \"density\": nx.density(G),\n",
    "        \"avg_clustering\": nx.average_clustering(G),\n",
    "        \"num_connected_components\": nx.number_connected_components(G),\n",
    "        \"degree_entropy\": entropy(degrees / (degrees.sum() + 1e-8)),\n",
    "    }\n",
    "\n",
    "    # Optionally: top-3 eigenvalues of Laplacian\n",
    "    L = nx.normalized_laplacian_matrix(G).toarray()\n",
    "    eigvals = np.sort(np.linalg.eigvalsh(L))\n",
    "    for i in range(min(3, len(eigvals))):\n",
    "        features[f\"eigval_{i}\"] = eigvals[i]\n",
    "\n",
    "    return features\n",
    "\n",
    "def extract_features_and_labels(adjacency_list, labels_list):\n",
    "    \"\"\"\n",
    "    Convert a list of batched adjacency tensors and labels into a feature matrix and label vector.\n",
    "    \"\"\"\n",
    "    # Step 1: Concatenate and convert to numpy\n",
    "    all_adj = torch.cat(adjacency_list, dim=0).numpy()   # (N, 19, 19)\n",
    "    if labels_list is not None:\n",
    "        #all_adj = all_adj.reshape(-1, 19, 19)\n",
    "        all_labels = torch.cat(labels_list, dim=0).numpy()   # (N,)\n",
    "    else:\n",
    "        all_labels = None\n",
    "    # Step 2: Extract features for each adjacency matrix\n",
    "    feature_dicts = [compute_graph_features(adj) for adj in all_adj]\n",
    "    features_df = pd.DataFrame(feature_dicts)\n",
    "\n",
    "    return features_df, all_labels\n",
    "\n",
    "features_df, labels = extract_features_and_labels(all_adjacency, all_labels)\n",
    "\n",
    "# Now use it for sklearn\n",
    "from sklearn.ensemble import RandomForestClassifier\n",
    "from sklearn.metrics import classification_report\n",
    "\n",
    "X = features_df.values\n",
    "y = labels\n",
    "clf = RandomForestClassifier(n_estimators=100, class_weight='balanced',random_state=42,max_depth=10)\n",
    "clf.fit(X, y)\n",
    "print(classification_report(y, clf.predict(X), target_names=[\"No Seizure\", \"Seizure\"]))\n",
    "importances = clf.feature_importances_\n",
    "plt.bar(range(len(importances)), importances)\n",
    "plt.title(\"Feature Importances\")\n"
   ]
  },
  {
   "cell_type": "code",
   "execution_count": 17,
   "id": "6790d1d2",
   "metadata": {},
   "outputs": [
    {
     "name": "stderr",
     "output_type": "stream",
     "text": [
      "                                                                                                                                                                                                                \r"
     ]
    },
    {
     "name": "stdout",
     "output_type": "stream",
     "text": [
      "              precision    recall  f1-score   support\n",
      "\n",
      "  No Seizure       0.81      0.96      0.88       971\n",
      "     Seizure       0.21      0.05      0.08       227\n",
      "\n",
      "    accuracy                           0.79      1198\n",
      "   macro avg       0.51      0.50      0.48      1198\n",
      "weighted avg       0.70      0.79      0.73      1198\n",
      "\n"
     ]
    },
    {
     "data": {
      "image/png": "[encoded data removed]",
      "text/plain": [
       "<Figure size 640x480 with 2 Axes>"
      ]
     },
     "metadata": {},
     "output_type": "display_data"
    }
   ],
   "source": [
    "\n",
    "model.eval()\n",
    "all_adjacency_2 = []\n",
    "all_labels_2 = []\n",
    "\n",
    "with torch.no_grad():\n",
    "    loop = tqdm(val_loader, desc=\"Validation\", leave=False)\n",
    "    for x_val, y_val in loop:\n",
    "        x_val = x_val.to(device).float()\n",
    "        y_val = y_val.to(device)\n",
    "\n",
    "        adjacency_batch, _ = model(x_val)  # (batch, 19, 19)\n",
    "        \n",
    "        all_adjacency_2.append(adjacency_batch.cpu())   # keep batch dimension\n",
    "        all_labels_2.append(y_val.cpu())\n",
    "\n",
    "# Extract features for validation set\n",
    "features_df_val, labels_val = extract_features_and_labels(all_adjacency_2, all_labels_2)\n",
    "print(classification_report(labels_val, clf.predict(features_df_val.values), target_names=[\"No Seizure\", \"Seizure\"]))\n",
    "\n",
    "# plot confusion matrix\n",
    "from sklearn.metrics import confusion_matrix\n",
    "import seaborn as sns\n",
    "import matplotlib.pyplot as plt\n",
    "from sklearn.metrics import ConfusionMatrixDisplay\n",
    "import matplotlib.pyplot as plt\n",
    "\n",
    "\n",
    "# Compute confusion matrix\n",
    "cm = confusion_matrix(labels_val, clf.predict(features_df_val.values))\n",
    "disp = ConfusionMatrixDisplay(confusion_matrix=cm, display_labels=[\"No Seizure\", \"Seizure\"])\n",
    "disp.plot(cmap=plt.cm.Blues)\n",
    "plt.title(\"Confusion Matrix\")\n",
    "plt.show()\n"
   ]
  },
  {
   "cell_type": "markdown",
   "id": "6d9b0aec",
   "metadata": {},
   "source": [
    "## Test"
   ]
  },
  {
   "cell_type": "code",
   "execution_count": 26,
   "id": "4fd37afa",
   "metadata": {},
   "outputs": [
    {
     "name": "stdout",
     "output_type": "stream",
     "text": [
      "Kaggle submission file generated: submission.csv\n"
     ]
    }
   ],
   "source": [
    "test_data = eeg_data_wrapper.test_dataset()\n",
    "test_loader = DataLoader(test_data, batch_size=32, shuffle=False)\n",
    "all_adjacency_test = []\n",
    "model.eval()\n",
    "all_predictions = []\n",
    "all_ids = []\n",
    "with torch.no_grad():\n",
    "    for batch in test_loader:\n",
    "        x_batch, x_ids = batch\n",
    "        x_batch = x_batch.float().to(device)\n",
    "        adjacency, _ = model(x_batch)  # logits: (batch,) \n",
    "        all_adjacency_test.append(adjacency.cpu())  # Store adjacency matrices\n",
    "        all_ids.extend(x_ids)  # Store sample IDs\n",
    "features_df_test, _ = extract_features_and_labels(all_adjacency_test, None)\n",
    "all_predictions = clf.predict(features_df_test.values)\n",
    "all_ids = [str(i).replace(\"__\", \"$$\") for i in all_ids]\n",
    "all_ids = [i.replace(\"_\", \"\") for i in all_ids]\n",
    "all_ids = [i.replace(\"$$\", \"_\") for i in all_ids]\n",
    "submission_df = pd.DataFrame({\"id\": all_ids, \"label\": all_predictions})\n",
    "submission_df.to_csv(\"submission_custom_model.csv\", index=False)\n",
    "print(\"Kaggle submission file generated: submission.csv\")"
   ]
  }
 ],
 "metadata": {
  "kernelspec": {
   "display_name": "Python 3 (ipykernel)",
   "language": "python",
   "name": "python3"
  }
 },
 "nbformat": 4,
 "nbformat_minor": 5
}
